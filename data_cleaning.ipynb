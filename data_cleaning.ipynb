{
 "cells": [
  {
   "cell_type": "code",
   "execution_count": 108,
   "metadata": {},
   "outputs": [],
   "source": [
    "import pandas as pd\n",
    "# To do\n",
    "# salary parsing\n",
    "# company name text only\n",
    "# city field\n",
    "# age of company\n",
    "# parsing of job description"
   ]
  },
  {
   "cell_type": "code",
   "execution_count": 38,
   "metadata": {},
   "outputs": [],
   "source": [
    "df = pd.read_csv(\"glassdoor_jobs.csv\")"
   ]
  },
  {
   "cell_type": "code",
   "execution_count": 3,
   "metadata": {
    "collapsed": true
   },
   "outputs": [
    {
     "data": {
      "text/html": [
       "<div>\n",
       "<style scoped>\n",
       "    .dataframe tbody tr th:only-of-type {\n",
       "        vertical-align: middle;\n",
       "    }\n",
       "\n",
       "    .dataframe tbody tr th {\n",
       "        vertical-align: top;\n",
       "    }\n",
       "\n",
       "    .dataframe thead th {\n",
       "        text-align: right;\n",
       "    }\n",
       "</style>\n",
       "<table border=\"1\" class=\"dataframe\">\n",
       "  <thead>\n",
       "    <tr style=\"text-align: right;\">\n",
       "      <th></th>\n",
       "      <th>Job Title</th>\n",
       "      <th>Salary Estimate</th>\n",
       "      <th>Job Description</th>\n",
       "      <th>Rating</th>\n",
       "      <th>Company Name</th>\n",
       "      <th>Location</th>\n",
       "      <th>Headquarters</th>\n",
       "      <th>Size</th>\n",
       "      <th>Founded</th>\n",
       "      <th>Type of nership</th>\n",
       "      <th>Industry</th>\n",
       "      <th>Sector</th>\n",
       "      <th>Revenue</th>\n",
       "      <th>Competitors</th>\n",
       "    </tr>\n",
       "  </thead>\n",
       "  <tbody>\n",
       "    <tr>\n",
       "      <td>0</td>\n",
       "      <td>Data Scientist</td>\n",
       "      <td>Employer Provided Salary:$70K-$120K</td>\n",
       "      <td>BestReviews.com is the ultimate product recomm...</td>\n",
       "      <td>5.0</td>\n",
       "      <td>BestReviews\\n5.0</td>\n",
       "      <td>San Francisco, CA</td>\n",
       "      <td>San Francisco, CA</td>\n",
       "      <td>51 to 200 employees</td>\n",
       "      <td>2014</td>\n",
       "      <td>Company - Private</td>\n",
       "      <td>Publishing</td>\n",
       "      <td>Media</td>\n",
       "      <td>Unknown / Non-Applicable</td>\n",
       "      <td>-1</td>\n",
       "    </tr>\n",
       "    <tr>\n",
       "      <td>1</td>\n",
       "      <td>Data Scientist</td>\n",
       "      <td>$88K-$122K (Glassdoor est.)</td>\n",
       "      <td>We are passionate about solving real world pro...</td>\n",
       "      <td>4.5</td>\n",
       "      <td>Virtual Power Systems\\n4.5</td>\n",
       "      <td>Milpitas, CA</td>\n",
       "      <td>Milpitas, CA</td>\n",
       "      <td>1 to 50 employees</td>\n",
       "      <td>2013</td>\n",
       "      <td>Company - Private</td>\n",
       "      <td>Enterprise Software &amp; Network Solutions</td>\n",
       "      <td>Information Technology</td>\n",
       "      <td>Less than $1 million (USD)</td>\n",
       "      <td>-1</td>\n",
       "    </tr>\n",
       "    <tr>\n",
       "      <td>2</td>\n",
       "      <td>Data Scientist</td>\n",
       "      <td>-1</td>\n",
       "      <td>About Stanza\\n\\nHundreds of millions of pagevi...</td>\n",
       "      <td>3.2</td>\n",
       "      <td>Stanza\\n3.2</td>\n",
       "      <td>San Francisco, CA</td>\n",
       "      <td>San Francisco, CA</td>\n",
       "      <td>1 to 50 employees</td>\n",
       "      <td>2012</td>\n",
       "      <td>Company - Private</td>\n",
       "      <td>Internet</td>\n",
       "      <td>Information Technology</td>\n",
       "      <td>Unknown / Non-Applicable</td>\n",
       "      <td>-1</td>\n",
       "    </tr>\n",
       "    <tr>\n",
       "      <td>3</td>\n",
       "      <td>Data Scientist</td>\n",
       "      <td>-1</td>\n",
       "      <td>Affinity is on a mission to help everyone in t...</td>\n",
       "      <td>5.0</td>\n",
       "      <td>Affinity\\n5.0</td>\n",
       "      <td>San Francisco, CA</td>\n",
       "      <td>San Francisco, CA</td>\n",
       "      <td>51 to 200 employees</td>\n",
       "      <td>2015</td>\n",
       "      <td>Company - Private</td>\n",
       "      <td>Enterprise Software &amp; Network Solutions</td>\n",
       "      <td>Information Technology</td>\n",
       "      <td>Unknown / Non-Applicable</td>\n",
       "      <td>-1</td>\n",
       "    </tr>\n",
       "    <tr>\n",
       "      <td>4</td>\n",
       "      <td>Data Scientist</td>\n",
       "      <td>$139K-$186K (Glassdoor est.)</td>\n",
       "      <td>Software Engineer, Data Science (Optimization)...</td>\n",
       "      <td>3.3</td>\n",
       "      <td>Marin Software\\n3.3</td>\n",
       "      <td>San Francisco, CA</td>\n",
       "      <td>San Francisco, CA</td>\n",
       "      <td>201 to 500 employees</td>\n",
       "      <td>2006</td>\n",
       "      <td>Company - Public</td>\n",
       "      <td>Computer Hardware &amp; Software</td>\n",
       "      <td>Information Technology</td>\n",
       "      <td>$50 to $100 million (USD)</td>\n",
       "      <td>-1</td>\n",
       "    </tr>\n",
       "  </tbody>\n",
       "</table>\n",
       "</div>"
      ],
      "text/plain": [
       "        Job Title                      Salary Estimate  \\\n",
       "0  Data Scientist  Employer Provided Salary:$70K-$120K   \n",
       "1  Data Scientist          $88K-$122K (Glassdoor est.)   \n",
       "2  Data Scientist                                   -1   \n",
       "3  Data Scientist                                   -1   \n",
       "4  Data Scientist         $139K-$186K (Glassdoor est.)   \n",
       "\n",
       "                                     Job Description  Rating  \\\n",
       "0  BestReviews.com is the ultimate product recomm...     5.0   \n",
       "1  We are passionate about solving real world pro...     4.5   \n",
       "2  About Stanza\\n\\nHundreds of millions of pagevi...     3.2   \n",
       "3  Affinity is on a mission to help everyone in t...     5.0   \n",
       "4  Software Engineer, Data Science (Optimization)...     3.3   \n",
       "\n",
       "                 Company Name           Location       Headquarters  \\\n",
       "0            BestReviews\\n5.0  San Francisco, CA  San Francisco, CA   \n",
       "1  Virtual Power Systems\\n4.5       Milpitas, CA       Milpitas, CA   \n",
       "2                 Stanza\\n3.2  San Francisco, CA  San Francisco, CA   \n",
       "3               Affinity\\n5.0  San Francisco, CA  San Francisco, CA   \n",
       "4         Marin Software\\n3.3  San Francisco, CA  San Francisco, CA   \n",
       "\n",
       "                   Size  Founded    Type of nership  \\\n",
       "0   51 to 200 employees     2014  Company - Private   \n",
       "1     1 to 50 employees     2013  Company - Private   \n",
       "2     1 to 50 employees     2012  Company - Private   \n",
       "3   51 to 200 employees     2015  Company - Private   \n",
       "4  201 to 500 employees     2006   Company - Public   \n",
       "\n",
       "                                  Industry                  Sector  \\\n",
       "0                               Publishing                   Media   \n",
       "1  Enterprise Software & Network Solutions  Information Technology   \n",
       "2                                 Internet  Information Technology   \n",
       "3  Enterprise Software & Network Solutions  Information Technology   \n",
       "4             Computer Hardware & Software  Information Technology   \n",
       "\n",
       "                      Revenue Competitors  \n",
       "0    Unknown / Non-Applicable          -1  \n",
       "1  Less than $1 million (USD)          -1  \n",
       "2    Unknown / Non-Applicable          -1  \n",
       "3    Unknown / Non-Applicable          -1  \n",
       "4   $50 to $100 million (USD)          -1  "
      ]
     },
     "execution_count": 3,
     "metadata": {},
     "output_type": "execute_result"
    }
   ],
   "source": [
    "df.head()"
   ]
  },
  {
   "cell_type": "code",
   "execution_count": 40,
   "metadata": {
    "collapsed": true
   },
   "outputs": [
    {
     "name": "stdout",
     "output_type": "stream",
     "text": [
      "<class 'pandas.core.frame.DataFrame'>\n",
      "RangeIndex: 350 entries, 0 to 349\n",
      "Data columns (total 14 columns):\n",
      "Job Title          350 non-null object\n",
      "Salary Estimate    350 non-null object\n",
      "Job Description    350 non-null object\n",
      "Rating             350 non-null float64\n",
      "Company Name       350 non-null object\n",
      "Location           350 non-null object\n",
      "Headquarters       350 non-null object\n",
      "Size               350 non-null object\n",
      "Founded            350 non-null int64\n",
      "Type of nership    350 non-null object\n",
      "Industry           350 non-null object\n",
      "Sector             350 non-null object\n",
      "Revenue            350 non-null object\n",
      "Competitors        350 non-null object\n",
      "dtypes: float64(1), int64(1), object(12)\n",
      "memory usage: 38.4+ KB\n"
     ]
    }
   ],
   "source": [
    "df.info()"
   ]
  },
  {
   "cell_type": "code",
   "execution_count": null,
   "metadata": {},
   "outputs": [],
   "source": []
  },
  {
   "cell_type": "markdown",
   "metadata": {},
   "source": [
    "## Salary Parsing"
   ]
  },
  {
   "cell_type": "code",
   "execution_count": null,
   "metadata": {},
   "outputs": [],
   "source": [
    "# find any per hour wages\n",
    "df['hourly'] = df['Salary Estimate'].apply(lambda x: 1 if 'per hour' in x.lower() else 0)\n",
    "\n",
    "# find employer provided salary data points\n",
    "df['Employer Provided Salary'] = df['Salary Estimate'].apply(lambda x: 1 if 'employer' in x.lower() else 0)"
   ]
  },
  {
   "cell_type": "code",
   "execution_count": null,
   "metadata": {},
   "outputs": [],
   "source": [
    "#remove -1 on salary\n",
    "df = df[df['Salary Estimate'] != '-1']"
   ]
  },
  {
   "cell_type": "code",
   "execution_count": 43,
   "metadata": {},
   "outputs": [],
   "source": [
    "# remove text from salary data\n",
    "salary = df['Salary Estimate'].apply(lambda x: x.split('(')[0])"
   ]
  },
  {
   "cell_type": "code",
   "execution_count": 88,
   "metadata": {},
   "outputs": [],
   "source": [
    "# replace dollar sign and minus with blank space\n",
    "minus_kd = salary.apply(lambda x: x.replace('$', '').replace('K',' ').replace(\":\",''))"
   ]
  },
  {
   "cell_type": "code",
   "execution_count": 89,
   "metadata": {},
   "outputs": [],
   "source": [
    "min_hr = minus_kd.apply(lambda x: x.lower().replace('per hour', '').replace('employer provided salary', ''))"
   ]
  },
  {
   "cell_type": "code",
   "execution_count": 90,
   "metadata": {
    "collapsed": true
   },
   "outputs": [
    {
     "data": {
      "text/plain": [
       "0        70 -120 \n",
       "1       88 -122  \n",
       "4      139 -186  \n",
       "5      112 -155  \n",
       "6      151 -203  \n",
       "          ...    \n",
       "336     92 -153  \n",
       "339    118 -124  \n",
       "340    121 -170  \n",
       "342     73 -114  \n",
       "346    125 -193  \n",
       "Name: Salary Estimate, Length: 202, dtype: object"
      ]
     },
     "execution_count": 90,
     "metadata": {},
     "output_type": "execute_result"
    }
   ],
   "source": [
    "min_hr"
   ]
  },
  {
   "cell_type": "code",
   "execution_count": 98,
   "metadata": {
    "collapsed": true
   },
   "outputs": [
    {
     "data": {
      "text/plain": [
       "0       70\n",
       "1       88\n",
       "4      139\n",
       "5      112\n",
       "6      151\n",
       "      ... \n",
       "336     92\n",
       "339    118\n",
       "340    121\n",
       "342     73\n",
       "346    125\n",
       "Name: min salary, Length: 202, dtype: int64"
      ]
     },
     "execution_count": 98,
     "metadata": {},
     "output_type": "execute_result"
    }
   ],
   "source": [
    "df['min salary'] = min_hr.apply(lambda x: x.split(\"-\")[0])\n",
    "df['min salary'].astype(int)"
   ]
  },
  {
   "cell_type": "code",
   "execution_count": 100,
   "metadata": {
    "collapsed": true
   },
   "outputs": [
    {
     "data": {
      "text/plain": [
       "0      120\n",
       "1      122\n",
       "4      186\n",
       "5      155\n",
       "6      203\n",
       "      ... \n",
       "336    153\n",
       "339    124\n",
       "340    170\n",
       "342    114\n",
       "346    193\n",
       "Name: max salary, Length: 202, dtype: int64"
      ]
     },
     "execution_count": 100,
     "metadata": {},
     "output_type": "execute_result"
    }
   ],
   "source": [
    "df['max salary'] = min_hr.apply(lambda x: x.split(\"-\")[1])\n",
    "df['max salary'].astype(int)"
   ]
  },
  {
   "cell_type": "code",
   "execution_count": 103,
   "metadata": {},
   "outputs": [],
   "source": [
    "df['avg salary'] = (df['max salary'].astype(int) + df['min salary'].astype(int))/2"
   ]
  },
  {
   "cell_type": "code",
   "execution_count": 104,
   "metadata": {
    "collapsed": true
   },
   "outputs": [
    {
     "data": {
      "text/html": [
       "<div>\n",
       "<style scoped>\n",
       "    .dataframe tbody tr th:only-of-type {\n",
       "        vertical-align: middle;\n",
       "    }\n",
       "\n",
       "    .dataframe tbody tr th {\n",
       "        vertical-align: top;\n",
       "    }\n",
       "\n",
       "    .dataframe thead th {\n",
       "        text-align: right;\n",
       "    }\n",
       "</style>\n",
       "<table border=\"1\" class=\"dataframe\">\n",
       "  <thead>\n",
       "    <tr style=\"text-align: right;\">\n",
       "      <th></th>\n",
       "      <th>Job Title</th>\n",
       "      <th>Salary Estimate</th>\n",
       "      <th>Job Description</th>\n",
       "      <th>Rating</th>\n",
       "      <th>Company Name</th>\n",
       "      <th>Location</th>\n",
       "      <th>Headquarters</th>\n",
       "      <th>Size</th>\n",
       "      <th>Founded</th>\n",
       "      <th>Type of nership</th>\n",
       "      <th>Industry</th>\n",
       "      <th>Sector</th>\n",
       "      <th>Revenue</th>\n",
       "      <th>Competitors</th>\n",
       "      <th>hourly</th>\n",
       "      <th>Employer Provided Salary</th>\n",
       "      <th>min salary</th>\n",
       "      <th>max salary</th>\n",
       "      <th>avg salary</th>\n",
       "    </tr>\n",
       "  </thead>\n",
       "  <tbody>\n",
       "    <tr>\n",
       "      <td>0</td>\n",
       "      <td>Data Scientist</td>\n",
       "      <td>Employer Provided Salary:$70K-$120K</td>\n",
       "      <td>BestReviews.com is the ultimate product recomm...</td>\n",
       "      <td>5.0</td>\n",
       "      <td>BestReviews\\n5.0</td>\n",
       "      <td>San Francisco, CA</td>\n",
       "      <td>San Francisco, CA</td>\n",
       "      <td>51 to 200 employees</td>\n",
       "      <td>2014</td>\n",
       "      <td>Company - Private</td>\n",
       "      <td>Publishing</td>\n",
       "      <td>Media</td>\n",
       "      <td>Unknown / Non-Applicable</td>\n",
       "      <td>-1</td>\n",
       "      <td>0</td>\n",
       "      <td>1</td>\n",
       "      <td>70</td>\n",
       "      <td>120</td>\n",
       "      <td>95.0</td>\n",
       "    </tr>\n",
       "    <tr>\n",
       "      <td>1</td>\n",
       "      <td>Data Scientist</td>\n",
       "      <td>$88K-$122K (Glassdoor est.)</td>\n",
       "      <td>We are passionate about solving real world pro...</td>\n",
       "      <td>4.5</td>\n",
       "      <td>Virtual Power Systems\\n4.5</td>\n",
       "      <td>Milpitas, CA</td>\n",
       "      <td>Milpitas, CA</td>\n",
       "      <td>1 to 50 employees</td>\n",
       "      <td>2013</td>\n",
       "      <td>Company - Private</td>\n",
       "      <td>Enterprise Software &amp; Network Solutions</td>\n",
       "      <td>Information Technology</td>\n",
       "      <td>Less than $1 million (USD)</td>\n",
       "      <td>-1</td>\n",
       "      <td>0</td>\n",
       "      <td>0</td>\n",
       "      <td>88</td>\n",
       "      <td>122</td>\n",
       "      <td>105.0</td>\n",
       "    </tr>\n",
       "    <tr>\n",
       "      <td>4</td>\n",
       "      <td>Data Scientist</td>\n",
       "      <td>$139K-$186K (Glassdoor est.)</td>\n",
       "      <td>Software Engineer, Data Science (Optimization)...</td>\n",
       "      <td>3.3</td>\n",
       "      <td>Marin Software\\n3.3</td>\n",
       "      <td>San Francisco, CA</td>\n",
       "      <td>San Francisco, CA</td>\n",
       "      <td>201 to 500 employees</td>\n",
       "      <td>2006</td>\n",
       "      <td>Company - Public</td>\n",
       "      <td>Computer Hardware &amp; Software</td>\n",
       "      <td>Information Technology</td>\n",
       "      <td>$50 to $100 million (USD)</td>\n",
       "      <td>-1</td>\n",
       "      <td>0</td>\n",
       "      <td>0</td>\n",
       "      <td>139</td>\n",
       "      <td>186</td>\n",
       "      <td>162.5</td>\n",
       "    </tr>\n",
       "    <tr>\n",
       "      <td>5</td>\n",
       "      <td>Data Scientist - Business Analytics</td>\n",
       "      <td>$112K-$155K (Glassdoor est.)</td>\n",
       "      <td>About Quora:\\n\\n\\nThe vast majority of human k...</td>\n",
       "      <td>4.7</td>\n",
       "      <td>Quora\\n4.7</td>\n",
       "      <td>Mountain View, CA</td>\n",
       "      <td>Mountain View, CA</td>\n",
       "      <td>201 to 500 employees</td>\n",
       "      <td>2009</td>\n",
       "      <td>Company - Private</td>\n",
       "      <td>Internet</td>\n",
       "      <td>Information Technology</td>\n",
       "      <td>Unknown / Non-Applicable</td>\n",
       "      <td>-1</td>\n",
       "      <td>0</td>\n",
       "      <td>0</td>\n",
       "      <td>112</td>\n",
       "      <td>155</td>\n",
       "      <td>133.5</td>\n",
       "    </tr>\n",
       "    <tr>\n",
       "      <td>6</td>\n",
       "      <td>Data Scientist, People Analytics</td>\n",
       "      <td>$151K-$203K (Glassdoor est.)</td>\n",
       "      <td>The Position\\n\\n\\nThe People Analytics team at...</td>\n",
       "      <td>3.9</td>\n",
       "      <td>Genentech\\n3.9</td>\n",
       "      <td>South San Francisco, CA</td>\n",
       "      <td>South San Francisco, CA</td>\n",
       "      <td>10000+ employees</td>\n",
       "      <td>1976</td>\n",
       "      <td>Subsidiary or Business Segment</td>\n",
       "      <td>Biotech &amp; Pharmaceuticals</td>\n",
       "      <td>Biotech &amp; Pharmaceuticals</td>\n",
       "      <td>$10+ billion (USD)</td>\n",
       "      <td>-1</td>\n",
       "      <td>0</td>\n",
       "      <td>0</td>\n",
       "      <td>151</td>\n",
       "      <td>203</td>\n",
       "      <td>177.0</td>\n",
       "    </tr>\n",
       "  </tbody>\n",
       "</table>\n",
       "</div>"
      ],
      "text/plain": [
       "                             Job Title                      Salary Estimate  \\\n",
       "0                       Data Scientist  Employer Provided Salary:$70K-$120K   \n",
       "1                       Data Scientist          $88K-$122K (Glassdoor est.)   \n",
       "4                       Data Scientist         $139K-$186K (Glassdoor est.)   \n",
       "5  Data Scientist - Business Analytics         $112K-$155K (Glassdoor est.)   \n",
       "6     Data Scientist, People Analytics         $151K-$203K (Glassdoor est.)   \n",
       "\n",
       "                                     Job Description  Rating  \\\n",
       "0  BestReviews.com is the ultimate product recomm...     5.0   \n",
       "1  We are passionate about solving real world pro...     4.5   \n",
       "4  Software Engineer, Data Science (Optimization)...     3.3   \n",
       "5  About Quora:\\n\\n\\nThe vast majority of human k...     4.7   \n",
       "6  The Position\\n\\n\\nThe People Analytics team at...     3.9   \n",
       "\n",
       "                 Company Name                 Location  \\\n",
       "0            BestReviews\\n5.0        San Francisco, CA   \n",
       "1  Virtual Power Systems\\n4.5             Milpitas, CA   \n",
       "4         Marin Software\\n3.3        San Francisco, CA   \n",
       "5                  Quora\\n4.7        Mountain View, CA   \n",
       "6              Genentech\\n3.9  South San Francisco, CA   \n",
       "\n",
       "              Headquarters                  Size  Founded  \\\n",
       "0        San Francisco, CA   51 to 200 employees     2014   \n",
       "1             Milpitas, CA     1 to 50 employees     2013   \n",
       "4        San Francisco, CA  201 to 500 employees     2006   \n",
       "5        Mountain View, CA  201 to 500 employees     2009   \n",
       "6  South San Francisco, CA      10000+ employees     1976   \n",
       "\n",
       "                  Type of nership                                 Industry  \\\n",
       "0               Company - Private                               Publishing   \n",
       "1               Company - Private  Enterprise Software & Network Solutions   \n",
       "4                Company - Public             Computer Hardware & Software   \n",
       "5               Company - Private                                 Internet   \n",
       "6  Subsidiary or Business Segment                Biotech & Pharmaceuticals   \n",
       "\n",
       "                      Sector                     Revenue Competitors  hourly  \\\n",
       "0                      Media    Unknown / Non-Applicable          -1       0   \n",
       "1     Information Technology  Less than $1 million (USD)          -1       0   \n",
       "4     Information Technology   $50 to $100 million (USD)          -1       0   \n",
       "5     Information Technology    Unknown / Non-Applicable          -1       0   \n",
       "6  Biotech & Pharmaceuticals          $10+ billion (USD)          -1       0   \n",
       "\n",
       "   Employer Provided Salary min salary max salary  avg salary  \n",
       "0                         1        70        120         95.0  \n",
       "1                         0        88       122         105.0  \n",
       "4                         0       139       186         162.5  \n",
       "5                         0       112       155         133.5  \n",
       "6                         0       151       203         177.0  "
      ]
     },
     "execution_count": 104,
     "metadata": {},
     "output_type": "execute_result"
    }
   ],
   "source": [
    "df.head()"
   ]
  },
  {
   "cell_type": "markdown",
   "metadata": {},
   "source": [
    "## Get Company Name and City Locations"
   ]
  },
  {
   "cell_type": "code",
   "execution_count": 116,
   "metadata": {},
   "outputs": [],
   "source": [
    "df['company name text'] = df['Company Name'].apply(lambda x: x.split('\\n')[0])"
   ]
  },
  {
   "cell_type": "code",
   "execution_count": 118,
   "metadata": {},
   "outputs": [],
   "source": [
    "df['job city location'] = df['Location'].apply(lambda x: x.split(',')[0])"
   ]
  },
  {
   "cell_type": "code",
   "execution_count": 120,
   "metadata": {
    "collapsed": true
   },
   "outputs": [
    {
     "data": {
      "text/plain": [
       "San Francisco          111\n",
       "Santa Clara             13\n",
       "Palo Alto               10\n",
       "San Jose                 8\n",
       "Sunnyvale                8\n",
       "Redwood City             7\n",
       "Mountain View            7\n",
       "Menlo Park               6\n",
       "Oakland                  5\n",
       "South San Francisco      4\n",
       "Sacramento               4\n",
       "San Mateo                4\n",
       "Roseville                3\n",
       "San Ramon                2\n",
       "Emeryville               2\n",
       "Rocklin                  1\n",
       "Livermore                1\n",
       "Concord                  1\n",
       "Monterey                 1\n",
       "Fremont                  1\n",
       "Milpitas                 1\n",
       "Pleasanton               1\n",
       "Cupertino                1\n",
       "Name: job city location, dtype: int64"
      ]
     },
     "execution_count": 120,
     "metadata": {},
     "output_type": "execute_result"
    }
   ],
   "source": [
    "df['job city location'].value_counts()"
   ]
  },
  {
   "cell_type": "markdown",
   "metadata": {},
   "source": [
    "## Is the job at the headquarter location?"
   ]
  },
  {
   "cell_type": "code",
   "execution_count": 121,
   "metadata": {},
   "outputs": [
    {
     "data": {
      "text/plain": [
       "Index(['Job Title', 'Salary Estimate', 'Job Description', 'Rating',\n",
       "       'Company Name', 'Location', 'Headquarters', 'Size', 'Founded',\n",
       "       'Type of nership', 'Industry', 'Sector', 'Revenue', 'Competitors',\n",
       "       'hourly', 'Employer Provided Salary', 'min salary', 'max salary',\n",
       "       'avg salary', 'Company Name Text', 'company name text',\n",
       "       'job city location'],\n",
       "      dtype='object')"
      ]
     },
     "execution_count": 121,
     "metadata": {},
     "output_type": "execute_result"
    }
   ],
   "source": [
    "df.columns"
   ]
  },
  {
   "cell_type": "code",
   "execution_count": 122,
   "metadata": {},
   "outputs": [],
   "source": [
    "df['same_city'] = df.apply(lambda x: 1 if x.Location == x.Headquarters else 0, axis =1)"
   ]
  },
  {
   "cell_type": "code",
   "execution_count": 125,
   "metadata": {},
   "outputs": [
    {
     "data": {
      "text/html": [
       "<div>\n",
       "<style scoped>\n",
       "    .dataframe tbody tr th:only-of-type {\n",
       "        vertical-align: middle;\n",
       "    }\n",
       "\n",
       "    .dataframe tbody tr th {\n",
       "        vertical-align: top;\n",
       "    }\n",
       "\n",
       "    .dataframe thead th {\n",
       "        text-align: right;\n",
       "    }\n",
       "</style>\n",
       "<table border=\"1\" class=\"dataframe\">\n",
       "  <thead>\n",
       "    <tr style=\"text-align: right;\">\n",
       "      <th></th>\n",
       "      <th>Job Title</th>\n",
       "      <th>Salary Estimate</th>\n",
       "      <th>Job Description</th>\n",
       "      <th>Rating</th>\n",
       "      <th>Company Name</th>\n",
       "      <th>Location</th>\n",
       "      <th>Headquarters</th>\n",
       "      <th>Size</th>\n",
       "      <th>Founded</th>\n",
       "      <th>Type of nership</th>\n",
       "      <th>...</th>\n",
       "      <th>Competitors</th>\n",
       "      <th>hourly</th>\n",
       "      <th>Employer Provided Salary</th>\n",
       "      <th>min salary</th>\n",
       "      <th>max salary</th>\n",
       "      <th>avg salary</th>\n",
       "      <th>Company Name Text</th>\n",
       "      <th>company name text</th>\n",
       "      <th>job city location</th>\n",
       "      <th>same_city</th>\n",
       "    </tr>\n",
       "  </thead>\n",
       "  <tbody>\n",
       "    <tr>\n",
       "      <td>0</td>\n",
       "      <td>Data Scientist</td>\n",
       "      <td>Employer Provided Salary:$70K-$120K</td>\n",
       "      <td>BestReviews.com is the ultimate product recomm...</td>\n",
       "      <td>5.0</td>\n",
       "      <td>BestReviews\\n5.0</td>\n",
       "      <td>San Francisco, CA</td>\n",
       "      <td>San Francisco, CA</td>\n",
       "      <td>51 to 200 employees</td>\n",
       "      <td>2014</td>\n",
       "      <td>Company - Private</td>\n",
       "      <td>...</td>\n",
       "      <td>-1</td>\n",
       "      <td>0</td>\n",
       "      <td>1</td>\n",
       "      <td>70</td>\n",
       "      <td>120</td>\n",
       "      <td>95.0</td>\n",
       "      <td>BestReviews</td>\n",
       "      <td>BestReviews</td>\n",
       "      <td>San Francisco</td>\n",
       "      <td>1</td>\n",
       "    </tr>\n",
       "    <tr>\n",
       "      <td>1</td>\n",
       "      <td>Data Scientist</td>\n",
       "      <td>$88K-$122K (Glassdoor est.)</td>\n",
       "      <td>We are passionate about solving real world pro...</td>\n",
       "      <td>4.5</td>\n",
       "      <td>Virtual Power Systems\\n4.5</td>\n",
       "      <td>Milpitas, CA</td>\n",
       "      <td>Milpitas, CA</td>\n",
       "      <td>1 to 50 employees</td>\n",
       "      <td>2013</td>\n",
       "      <td>Company - Private</td>\n",
       "      <td>...</td>\n",
       "      <td>-1</td>\n",
       "      <td>0</td>\n",
       "      <td>0</td>\n",
       "      <td>88</td>\n",
       "      <td>122</td>\n",
       "      <td>105.0</td>\n",
       "      <td>Virtual Power Systems</td>\n",
       "      <td>Virtual Power Systems</td>\n",
       "      <td>Milpitas</td>\n",
       "      <td>1</td>\n",
       "    </tr>\n",
       "    <tr>\n",
       "      <td>4</td>\n",
       "      <td>Data Scientist</td>\n",
       "      <td>$139K-$186K (Glassdoor est.)</td>\n",
       "      <td>Software Engineer, Data Science (Optimization)...</td>\n",
       "      <td>3.3</td>\n",
       "      <td>Marin Software\\n3.3</td>\n",
       "      <td>San Francisco, CA</td>\n",
       "      <td>San Francisco, CA</td>\n",
       "      <td>201 to 500 employees</td>\n",
       "      <td>2006</td>\n",
       "      <td>Company - Public</td>\n",
       "      <td>...</td>\n",
       "      <td>-1</td>\n",
       "      <td>0</td>\n",
       "      <td>0</td>\n",
       "      <td>139</td>\n",
       "      <td>186</td>\n",
       "      <td>162.5</td>\n",
       "      <td>Marin Software</td>\n",
       "      <td>Marin Software</td>\n",
       "      <td>San Francisco</td>\n",
       "      <td>1</td>\n",
       "    </tr>\n",
       "    <tr>\n",
       "      <td>5</td>\n",
       "      <td>Data Scientist - Business Analytics</td>\n",
       "      <td>$112K-$155K (Glassdoor est.)</td>\n",
       "      <td>About Quora:\\n\\n\\nThe vast majority of human k...</td>\n",
       "      <td>4.7</td>\n",
       "      <td>Quora\\n4.7</td>\n",
       "      <td>Mountain View, CA</td>\n",
       "      <td>Mountain View, CA</td>\n",
       "      <td>201 to 500 employees</td>\n",
       "      <td>2009</td>\n",
       "      <td>Company - Private</td>\n",
       "      <td>...</td>\n",
       "      <td>-1</td>\n",
       "      <td>0</td>\n",
       "      <td>0</td>\n",
       "      <td>112</td>\n",
       "      <td>155</td>\n",
       "      <td>133.5</td>\n",
       "      <td>Quora</td>\n",
       "      <td>Quora</td>\n",
       "      <td>Mountain View</td>\n",
       "      <td>1</td>\n",
       "    </tr>\n",
       "    <tr>\n",
       "      <td>6</td>\n",
       "      <td>Data Scientist, People Analytics</td>\n",
       "      <td>$151K-$203K (Glassdoor est.)</td>\n",
       "      <td>The Position\\n\\n\\nThe People Analytics team at...</td>\n",
       "      <td>3.9</td>\n",
       "      <td>Genentech\\n3.9</td>\n",
       "      <td>South San Francisco, CA</td>\n",
       "      <td>South San Francisco, CA</td>\n",
       "      <td>10000+ employees</td>\n",
       "      <td>1976</td>\n",
       "      <td>Subsidiary or Business Segment</td>\n",
       "      <td>...</td>\n",
       "      <td>-1</td>\n",
       "      <td>0</td>\n",
       "      <td>0</td>\n",
       "      <td>151</td>\n",
       "      <td>203</td>\n",
       "      <td>177.0</td>\n",
       "      <td>Genentech</td>\n",
       "      <td>Genentech</td>\n",
       "      <td>South San Francisco</td>\n",
       "      <td>1</td>\n",
       "    </tr>\n",
       "  </tbody>\n",
       "</table>\n",
       "<p>5 rows × 23 columns</p>\n",
       "</div>"
      ],
      "text/plain": [
       "                             Job Title                      Salary Estimate  \\\n",
       "0                       Data Scientist  Employer Provided Salary:$70K-$120K   \n",
       "1                       Data Scientist          $88K-$122K (Glassdoor est.)   \n",
       "4                       Data Scientist         $139K-$186K (Glassdoor est.)   \n",
       "5  Data Scientist - Business Analytics         $112K-$155K (Glassdoor est.)   \n",
       "6     Data Scientist, People Analytics         $151K-$203K (Glassdoor est.)   \n",
       "\n",
       "                                     Job Description  Rating  \\\n",
       "0  BestReviews.com is the ultimate product recomm...     5.0   \n",
       "1  We are passionate about solving real world pro...     4.5   \n",
       "4  Software Engineer, Data Science (Optimization)...     3.3   \n",
       "5  About Quora:\\n\\n\\nThe vast majority of human k...     4.7   \n",
       "6  The Position\\n\\n\\nThe People Analytics team at...     3.9   \n",
       "\n",
       "                 Company Name                 Location  \\\n",
       "0            BestReviews\\n5.0        San Francisco, CA   \n",
       "1  Virtual Power Systems\\n4.5             Milpitas, CA   \n",
       "4         Marin Software\\n3.3        San Francisco, CA   \n",
       "5                  Quora\\n4.7        Mountain View, CA   \n",
       "6              Genentech\\n3.9  South San Francisco, CA   \n",
       "\n",
       "              Headquarters                  Size  Founded  \\\n",
       "0        San Francisco, CA   51 to 200 employees     2014   \n",
       "1             Milpitas, CA     1 to 50 employees     2013   \n",
       "4        San Francisco, CA  201 to 500 employees     2006   \n",
       "5        Mountain View, CA  201 to 500 employees     2009   \n",
       "6  South San Francisco, CA      10000+ employees     1976   \n",
       "\n",
       "                  Type of nership  ... Competitors hourly  \\\n",
       "0               Company - Private  ...          -1      0   \n",
       "1               Company - Private  ...          -1      0   \n",
       "4                Company - Public  ...          -1      0   \n",
       "5               Company - Private  ...          -1      0   \n",
       "6  Subsidiary or Business Segment  ...          -1      0   \n",
       "\n",
       "  Employer Provided Salary min salary  max salary  avg salary  \\\n",
       "0                        1        70         120         95.0   \n",
       "1                        0        88        122         105.0   \n",
       "4                        0       139        186         162.5   \n",
       "5                        0       112        155         133.5   \n",
       "6                        0       151        203         177.0   \n",
       "\n",
       "       Company Name Text      company name text    job city location same_city  \n",
       "0            BestReviews            BestReviews        San Francisco         1  \n",
       "1  Virtual Power Systems  Virtual Power Systems             Milpitas         1  \n",
       "4         Marin Software         Marin Software        San Francisco         1  \n",
       "5                  Quora                  Quora        Mountain View         1  \n",
       "6              Genentech              Genentech  South San Francisco         1  \n",
       "\n",
       "[5 rows x 23 columns]"
      ]
     },
     "execution_count": 125,
     "metadata": {},
     "output_type": "execute_result"
    }
   ],
   "source": [
    "df.head()"
   ]
  },
  {
   "cell_type": "markdown",
   "metadata": {},
   "source": [
    "## Get Age of Company"
   ]
  },
  {
   "cell_type": "code",
   "execution_count": 126,
   "metadata": {},
   "outputs": [],
   "source": [
    "df['age'] = df.Founded.apply(lambda x: x if x < 1 else 2021 - x)"
   ]
  },
  {
   "cell_type": "code",
   "execution_count": 127,
   "metadata": {
    "collapsed": true
   },
   "outputs": [
    {
     "data": {
      "text/html": [
       "<div>\n",
       "<style scoped>\n",
       "    .dataframe tbody tr th:only-of-type {\n",
       "        vertical-align: middle;\n",
       "    }\n",
       "\n",
       "    .dataframe tbody tr th {\n",
       "        vertical-align: top;\n",
       "    }\n",
       "\n",
       "    .dataframe thead th {\n",
       "        text-align: right;\n",
       "    }\n",
       "</style>\n",
       "<table border=\"1\" class=\"dataframe\">\n",
       "  <thead>\n",
       "    <tr style=\"text-align: right;\">\n",
       "      <th></th>\n",
       "      <th>Job Title</th>\n",
       "      <th>Salary Estimate</th>\n",
       "      <th>Job Description</th>\n",
       "      <th>Rating</th>\n",
       "      <th>Company Name</th>\n",
       "      <th>Location</th>\n",
       "      <th>Headquarters</th>\n",
       "      <th>Size</th>\n",
       "      <th>Founded</th>\n",
       "      <th>Type of nership</th>\n",
       "      <th>...</th>\n",
       "      <th>hourly</th>\n",
       "      <th>Employer Provided Salary</th>\n",
       "      <th>min salary</th>\n",
       "      <th>max salary</th>\n",
       "      <th>avg salary</th>\n",
       "      <th>Company Name Text</th>\n",
       "      <th>company name text</th>\n",
       "      <th>job city location</th>\n",
       "      <th>same_city</th>\n",
       "      <th>age</th>\n",
       "    </tr>\n",
       "  </thead>\n",
       "  <tbody>\n",
       "    <tr>\n",
       "      <td>0</td>\n",
       "      <td>Data Scientist</td>\n",
       "      <td>Employer Provided Salary:$70K-$120K</td>\n",
       "      <td>BestReviews.com is the ultimate product recomm...</td>\n",
       "      <td>5.0</td>\n",
       "      <td>BestReviews\\n5.0</td>\n",
       "      <td>San Francisco, CA</td>\n",
       "      <td>San Francisco, CA</td>\n",
       "      <td>51 to 200 employees</td>\n",
       "      <td>2014</td>\n",
       "      <td>Company - Private</td>\n",
       "      <td>...</td>\n",
       "      <td>0</td>\n",
       "      <td>1</td>\n",
       "      <td>70</td>\n",
       "      <td>120</td>\n",
       "      <td>95.0</td>\n",
       "      <td>BestReviews</td>\n",
       "      <td>BestReviews</td>\n",
       "      <td>San Francisco</td>\n",
       "      <td>1</td>\n",
       "      <td>7</td>\n",
       "    </tr>\n",
       "    <tr>\n",
       "      <td>1</td>\n",
       "      <td>Data Scientist</td>\n",
       "      <td>$88K-$122K (Glassdoor est.)</td>\n",
       "      <td>We are passionate about solving real world pro...</td>\n",
       "      <td>4.5</td>\n",
       "      <td>Virtual Power Systems\\n4.5</td>\n",
       "      <td>Milpitas, CA</td>\n",
       "      <td>Milpitas, CA</td>\n",
       "      <td>1 to 50 employees</td>\n",
       "      <td>2013</td>\n",
       "      <td>Company - Private</td>\n",
       "      <td>...</td>\n",
       "      <td>0</td>\n",
       "      <td>0</td>\n",
       "      <td>88</td>\n",
       "      <td>122</td>\n",
       "      <td>105.0</td>\n",
       "      <td>Virtual Power Systems</td>\n",
       "      <td>Virtual Power Systems</td>\n",
       "      <td>Milpitas</td>\n",
       "      <td>1</td>\n",
       "      <td>8</td>\n",
       "    </tr>\n",
       "    <tr>\n",
       "      <td>4</td>\n",
       "      <td>Data Scientist</td>\n",
       "      <td>$139K-$186K (Glassdoor est.)</td>\n",
       "      <td>Software Engineer, Data Science (Optimization)...</td>\n",
       "      <td>3.3</td>\n",
       "      <td>Marin Software\\n3.3</td>\n",
       "      <td>San Francisco, CA</td>\n",
       "      <td>San Francisco, CA</td>\n",
       "      <td>201 to 500 employees</td>\n",
       "      <td>2006</td>\n",
       "      <td>Company - Public</td>\n",
       "      <td>...</td>\n",
       "      <td>0</td>\n",
       "      <td>0</td>\n",
       "      <td>139</td>\n",
       "      <td>186</td>\n",
       "      <td>162.5</td>\n",
       "      <td>Marin Software</td>\n",
       "      <td>Marin Software</td>\n",
       "      <td>San Francisco</td>\n",
       "      <td>1</td>\n",
       "      <td>15</td>\n",
       "    </tr>\n",
       "    <tr>\n",
       "      <td>5</td>\n",
       "      <td>Data Scientist - Business Analytics</td>\n",
       "      <td>$112K-$155K (Glassdoor est.)</td>\n",
       "      <td>About Quora:\\n\\n\\nThe vast majority of human k...</td>\n",
       "      <td>4.7</td>\n",
       "      <td>Quora\\n4.7</td>\n",
       "      <td>Mountain View, CA</td>\n",
       "      <td>Mountain View, CA</td>\n",
       "      <td>201 to 500 employees</td>\n",
       "      <td>2009</td>\n",
       "      <td>Company - Private</td>\n",
       "      <td>...</td>\n",
       "      <td>0</td>\n",
       "      <td>0</td>\n",
       "      <td>112</td>\n",
       "      <td>155</td>\n",
       "      <td>133.5</td>\n",
       "      <td>Quora</td>\n",
       "      <td>Quora</td>\n",
       "      <td>Mountain View</td>\n",
       "      <td>1</td>\n",
       "      <td>12</td>\n",
       "    </tr>\n",
       "    <tr>\n",
       "      <td>6</td>\n",
       "      <td>Data Scientist, People Analytics</td>\n",
       "      <td>$151K-$203K (Glassdoor est.)</td>\n",
       "      <td>The Position\\n\\n\\nThe People Analytics team at...</td>\n",
       "      <td>3.9</td>\n",
       "      <td>Genentech\\n3.9</td>\n",
       "      <td>South San Francisco, CA</td>\n",
       "      <td>South San Francisco, CA</td>\n",
       "      <td>10000+ employees</td>\n",
       "      <td>1976</td>\n",
       "      <td>Subsidiary or Business Segment</td>\n",
       "      <td>...</td>\n",
       "      <td>0</td>\n",
       "      <td>0</td>\n",
       "      <td>151</td>\n",
       "      <td>203</td>\n",
       "      <td>177.0</td>\n",
       "      <td>Genentech</td>\n",
       "      <td>Genentech</td>\n",
       "      <td>South San Francisco</td>\n",
       "      <td>1</td>\n",
       "      <td>45</td>\n",
       "    </tr>\n",
       "  </tbody>\n",
       "</table>\n",
       "<p>5 rows × 24 columns</p>\n",
       "</div>"
      ],
      "text/plain": [
       "                             Job Title                      Salary Estimate  \\\n",
       "0                       Data Scientist  Employer Provided Salary:$70K-$120K   \n",
       "1                       Data Scientist          $88K-$122K (Glassdoor est.)   \n",
       "4                       Data Scientist         $139K-$186K (Glassdoor est.)   \n",
       "5  Data Scientist - Business Analytics         $112K-$155K (Glassdoor est.)   \n",
       "6     Data Scientist, People Analytics         $151K-$203K (Glassdoor est.)   \n",
       "\n",
       "                                     Job Description  Rating  \\\n",
       "0  BestReviews.com is the ultimate product recomm...     5.0   \n",
       "1  We are passionate about solving real world pro...     4.5   \n",
       "4  Software Engineer, Data Science (Optimization)...     3.3   \n",
       "5  About Quora:\\n\\n\\nThe vast majority of human k...     4.7   \n",
       "6  The Position\\n\\n\\nThe People Analytics team at...     3.9   \n",
       "\n",
       "                 Company Name                 Location  \\\n",
       "0            BestReviews\\n5.0        San Francisco, CA   \n",
       "1  Virtual Power Systems\\n4.5             Milpitas, CA   \n",
       "4         Marin Software\\n3.3        San Francisco, CA   \n",
       "5                  Quora\\n4.7        Mountain View, CA   \n",
       "6              Genentech\\n3.9  South San Francisco, CA   \n",
       "\n",
       "              Headquarters                  Size  Founded  \\\n",
       "0        San Francisco, CA   51 to 200 employees     2014   \n",
       "1             Milpitas, CA     1 to 50 employees     2013   \n",
       "4        San Francisco, CA  201 to 500 employees     2006   \n",
       "5        Mountain View, CA  201 to 500 employees     2009   \n",
       "6  South San Francisco, CA      10000+ employees     1976   \n",
       "\n",
       "                  Type of nership  ... hourly Employer Provided Salary  \\\n",
       "0               Company - Private  ...      0                        1   \n",
       "1               Company - Private  ...      0                        0   \n",
       "4                Company - Public  ...      0                        0   \n",
       "5               Company - Private  ...      0                        0   \n",
       "6  Subsidiary or Business Segment  ...      0                        0   \n",
       "\n",
       "  min salary max salary  avg salary      Company Name Text  \\\n",
       "0        70        120         95.0            BestReviews   \n",
       "1        88       122         105.0  Virtual Power Systems   \n",
       "4       139       186         162.5         Marin Software   \n",
       "5       112       155         133.5                  Quora   \n",
       "6       151       203         177.0              Genentech   \n",
       "\n",
       "       company name text    job city location  same_city age  \n",
       "0            BestReviews        San Francisco          1   7  \n",
       "1  Virtual Power Systems             Milpitas          1   8  \n",
       "4         Marin Software        San Francisco          1  15  \n",
       "5                  Quora        Mountain View          1  12  \n",
       "6              Genentech  South San Francisco          1  45  \n",
       "\n",
       "[5 rows x 24 columns]"
      ]
     },
     "execution_count": 127,
     "metadata": {},
     "output_type": "execute_result"
    }
   ],
   "source": [
    "df.head()"
   ]
  },
  {
   "cell_type": "markdown",
   "metadata": {},
   "source": [
    "## Parse Job Description"
   ]
  },
  {
   "cell_type": "code",
   "execution_count": 129,
   "metadata": {},
   "outputs": [
    {
     "data": {
      "text/plain": [
       "'BestReviews.com is the ultimate product recommendation service for the modern shopping experience. We eliminate the need for consumers to spend hours determining the best product for their needs. We have partnerships that allow our content to be seen on top sites like those of the Chicago Tribune, New York Daily News and more.\\nAs the only Data Scientist at BestReviews, you will lead our data infrastructure and projects. You will work alongside a multidisciplinary team, including product, content, creative, and engineering. Your work will have an immediate and direct impact on our site and our millions of users around the world. You will work directly with the Director of Product Management and founding team. You will be an integral part of identifying and implementing business growth efforts.\\nWe want to better organize and get insights from our website and ecommerce data. With our recent growth, we are ready to invest in our data infrastructure, and we have a growing number of data needs.\\nThis role is full-time based in San Francisco. Learn more about us here: http://bestreviews.com/about-us\\nYour primary objective / responsibilities:\\nOwn our data infrastructure and scale it to meet the company’s needs, including potentially setting up a data warehouse and/or BI tool\\nCreate processes to support key metrics data and manage this data\\nIdentify business growth opportunities, including the use of conversion signals from our website and marketing campaigns\\nCollaborate with product, content, and business development teams to meet their data needs\\nMake recommendations based on website A/B test results\\nLead data privacy projects like CCPA\\nQualifications / Requirements\\n2-4 years of experience in a data scientist or data analyst role\\nProficiency in MySQL\\nExperience working with engineers\\nExperience with machine learning is a plus\\nProgramming experience is a plus\\nE-Commerce experience is a plus\\nBenefits of this job:\\nWork directly with founding team in a flat, energetic, fast-moving organization\\nWorking closely with the Director of Product Manager and Chief Content Officer\\nCompetitive compensation / benefits / etc'"
      ]
     },
     "execution_count": 129,
     "metadata": {},
     "output_type": "execute_result"
    }
   ],
   "source": [
    "df['Job Description'][0]"
   ]
  },
  {
   "cell_type": "code",
   "execution_count": 145,
   "metadata": {},
   "outputs": [],
   "source": [
    "#python\n",
    "df['python'] = df['Job Description'].apply(lambda x: 1 if 'python' in x.lower() else 0 )\n",
    "#tableau\n",
    "df['tableau'] = df['Job Description'].apply(lambda x: 1 if 'tableau' in x.lower() else 0)\n",
    "#excel\n",
    "df['excel'] = df['Job Description'].apply(lambda x: 1 if 'excel' in x.lower() else 0)\n",
    "#aws\n",
    "df['aws'] = df['Job Description'].apply(lambda x: 1 if 'aws' in x.lower() else 0)\n",
    "#spark\n",
    "df['spark'] = df['Job Description'].apply(lambda x: 1 if 'spark' in x.lower() else 0)\n",
    "#hadoop\n",
    "df['hadoop'] = df['Job Description'].apply(lambda x: 1 if 'hadoop' in x.lower() else 0)\n",
    "#SQL\n",
    "df['SQL'] = df['Job Description'].apply(lambda x: 1 if 'sql' in x.lower() else 0)\n",
    "#BI\n",
    "df['BI'] = df['Job Description'].apply(lambda x: 1 if 'bi' in x.lower() else 0)"
   ]
  },
  {
   "cell_type": "code",
   "execution_count": 146,
   "metadata": {},
   "outputs": [
    {
     "data": {
      "text/plain": [
       "1    118\n",
       "0     84\n",
       "Name: python, dtype: int64"
      ]
     },
     "execution_count": 146,
     "metadata": {},
     "output_type": "execute_result"
    }
   ],
   "source": [
    "df['python'].value_counts()"
   ]
  },
  {
   "cell_type": "code",
   "execution_count": 147,
   "metadata": {},
   "outputs": [
    {
     "data": {
      "text/plain": [
       "0    167\n",
       "1     35\n",
       "Name: aws, dtype: int64"
      ]
     },
     "execution_count": 147,
     "metadata": {},
     "output_type": "execute_result"
    }
   ],
   "source": [
    "df['aws'].value_counts()"
   ]
  },
  {
   "cell_type": "code",
   "execution_count": 148,
   "metadata": {},
   "outputs": [
    {
     "data": {
      "text/plain": [
       "0    161\n",
       "1     41\n",
       "Name: spark, dtype: int64"
      ]
     },
     "execution_count": 148,
     "metadata": {},
     "output_type": "execute_result"
    }
   ],
   "source": [
    "df['spark'].value_counts()"
   ]
  },
  {
   "cell_type": "code",
   "execution_count": 149,
   "metadata": {},
   "outputs": [
    {
     "data": {
      "text/plain": [
       "1    137\n",
       "0     65\n",
       "Name: SQL, dtype: int64"
      ]
     },
     "execution_count": 149,
     "metadata": {},
     "output_type": "execute_result"
    }
   ],
   "source": [
    "df['SQL'].value_counts()"
   ]
  },
  {
   "cell_type": "code",
   "execution_count": 150,
   "metadata": {},
   "outputs": [
    {
     "data": {
      "text/plain": [
       "1    195\n",
       "0      7\n",
       "Name: BI, dtype: int64"
      ]
     },
     "execution_count": 150,
     "metadata": {},
     "output_type": "execute_result"
    }
   ],
   "source": [
    "df['BI'].value_counts()"
   ]
  },
  {
   "cell_type": "code",
   "execution_count": 151,
   "metadata": {},
   "outputs": [
    {
     "data": {
      "text/plain": [
       "1    111\n",
       "0     91\n",
       "Name: excel, dtype: int64"
      ]
     },
     "execution_count": 151,
     "metadata": {},
     "output_type": "execute_result"
    }
   ],
   "source": [
    "df['excel'].value_counts()"
   ]
  },
  {
   "cell_type": "code",
   "execution_count": 153,
   "metadata": {},
   "outputs": [
    {
     "data": {
      "text/plain": [
       "Index(['Job Title', 'Salary Estimate', 'Job Description', 'Rating',\n",
       "       'Company Name', 'Location', 'Headquarters', 'Size', 'Founded',\n",
       "       'Type of nership', 'Industry', 'Sector', 'Revenue', 'Competitors',\n",
       "       'hourly', 'Employer Provided Salary', 'min salary', 'max salary',\n",
       "       'avg salary', 'Company Name Text', 'company name text',\n",
       "       'job city location', 'same_city', 'age', 'python y/n', 'tableau y/n',\n",
       "       'excel y/n', 'aws y/n', 'spark y/n', 'hadoop y/n', 'SQL y/n', 'BI y/n',\n",
       "       'python', 'tableau', 'excel', 'aws', 'spark', 'hadoop', 'SQL', 'BI'],\n",
       "      dtype='object')"
      ]
     },
     "execution_count": 153,
     "metadata": {},
     "output_type": "execute_result"
    }
   ],
   "source": [
    "df.columns"
   ]
  },
  {
   "cell_type": "code",
   "execution_count": 162,
   "metadata": {},
   "outputs": [],
   "source": [
    "df.to_csv('salary_data_cleaned.csv', index=False)"
   ]
  },
  {
   "cell_type": "code",
   "execution_count": null,
   "metadata": {},
   "outputs": [],
   "source": []
  },
  {
   "cell_type": "code",
   "execution_count": null,
   "metadata": {},
   "outputs": [],
   "source": []
  }
 ],
 "metadata": {
  "kernelspec": {
   "display_name": "Python 3",
   "language": "python",
   "name": "python3"
  },
  "language_info": {
   "codemirror_mode": {
    "name": "ipython",
    "version": 3
   },
   "file_extension": ".py",
   "mimetype": "text/x-python",
   "name": "python",
   "nbconvert_exporter": "python",
   "pygments_lexer": "ipython3",
   "version": "3.7.4"
  }
 },
 "nbformat": 4,
 "nbformat_minor": 2
}
