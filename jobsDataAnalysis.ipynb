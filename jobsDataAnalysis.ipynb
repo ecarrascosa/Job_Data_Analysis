{
 "cells": [
  {
   "cell_type": "code",
   "execution_count": 9,
   "metadata": {},
   "outputs": [],
   "source": [
    "import pandas as pd\n",
    "#import glassdoor webscraper as gs import the webscraper"
   ]
  },
  {
   "cell_type": "code",
   "execution_count": 21,
   "metadata": {},
   "outputs": [],
   "source": [
    "# call the webscraper with the function to get the datadf = gs.get_jobs()\n",
    "\n",
    "df = pd.read_csv(\"/Users/eduardocarrascosa/Desktop/MS_Analytics/Data_Analytics/Jupyter_Notebook/raw_datasetcopy.csv\", sep=\";\")\n",
    "df.to_csv('glassdoor_jobs.csv', index=False) # save a csv copy of the data to the project folder "
   ]
  },
  {
   "cell_type": "code",
   "execution_count": 19,
   "metadata": {},
   "outputs": [
    {
     "data": {
      "text/plain": [
       "(350, 14)"
      ]
     },
     "execution_count": 19,
     "metadata": {},
     "output_type": "execute_result"
    }
   ],
   "source": [
    "df.shape"
   ]
  },
  {
   "cell_type": "code",
   "execution_count": 17,
   "metadata": {},
   "outputs": [
    {
     "name": "stdout",
     "output_type": "stream",
     "text": [
      "<class 'pandas.core.frame.DataFrame'>\n",
      "RangeIndex: 350 entries, 0 to 349\n",
      "Data columns (total 14 columns):\n",
      "Job Title          350 non-null object\n",
      "Salary Estimate    350 non-null object\n",
      "Job Description    350 non-null object\n",
      "Rating             350 non-null float64\n",
      "Company Name       350 non-null object\n",
      "Location           350 non-null object\n",
      "Headquarters       350 non-null object\n",
      "Size               350 non-null object\n",
      "Founded            350 non-null int64\n",
      "Type of nership    350 non-null object\n",
      "Industry           350 non-null object\n",
      "Sector             350 non-null object\n",
      "Revenue            350 non-null object\n",
      "Competitors        350 non-null object\n",
      "dtypes: float64(1), int64(1), object(12)\n",
      "memory usage: 38.4+ KB\n"
     ]
    }
   ],
   "source": [
    "df.info()"
   ]
  },
  {
   "cell_type": "code",
   "execution_count": null,
   "metadata": {},
   "outputs": [],
   "source": []
  }
 ],
 "metadata": {
  "kernelspec": {
   "display_name": "Python 3",
   "language": "python",
   "name": "python3"
  },
  "language_info": {
   "codemirror_mode": {
    "name": "ipython",
    "version": 3
   },
   "file_extension": ".py",
   "mimetype": "text/x-python",
   "name": "python",
   "nbconvert_exporter": "python",
   "pygments_lexer": "ipython3",
   "version": "3.7.4"
  }
 },
 "nbformat": 4,
 "nbformat_minor": 2
}
